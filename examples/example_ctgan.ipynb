{
 "cells": [
  {
   "cell_type": "code",
   "execution_count": 63,
   "metadata": {},
   "outputs": [],
   "source": [
    "import sys\n",
    "sys.path.append('../src')"
   ]
  },
  {
   "cell_type": "code",
   "execution_count": 75,
   "metadata": {},
   "outputs": [
    {
     "name": "stdout",
     "output_type": "stream",
     "text": [
      "KS global score: 0.1683\n",
      "KS per column: {'step_variability': 0.295, 'gait_speed': 0.205, 'stride_length': 0.11, 'ml_stability': 0.14, 'fall_risk': 0.105, 'target': 0.155}\n"
     ]
    }
   ],
   "source": [
    "from trbxai.generate.ctgan_generator import generate_synthetic_patients\n",
    "\n",
    "result = generate_synthetic_patients(df, target_column=\"diagnosi\", n_samples=200, evaluate_quality=True)\n",
    "\n",
    "synthetic_df = result['synthetic']\n",
    "quality_report = result['quality']\n",
    "\n",
    "print(\"KS global score:\", quality_report['Global KS score'])\n",
    "print(\"KS per column:\", quality_report['KS per column'])"
   ]
  }
 ],
 "metadata": {
  "kernelspec": {
   "display_name": "base",
   "language": "python",
   "name": "python3"
  },
  "language_info": {
   "codemirror_mode": {
    "name": "ipython",
    "version": 3
   },
   "file_extension": ".py",
   "mimetype": "text/x-python",
   "name": "python",
   "nbconvert_exporter": "python",
   "pygments_lexer": "ipython3",
   "version": "3.11.7"
  }
 },
 "nbformat": 4,
 "nbformat_minor": 2
}
